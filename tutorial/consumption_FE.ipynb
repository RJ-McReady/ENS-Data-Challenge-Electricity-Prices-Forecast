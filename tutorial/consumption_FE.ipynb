{
 "cells": [
  {
   "cell_type": "code",
   "execution_count": 1,
   "metadata": {},
   "outputs": [],
   "source": [
    "import pandas as pd, numpy as np, matplotlib.pyplot as plt, os, sys\n",
    "sys.path.append(os.path.dirname(os.path.abspath('')))\n",
    "from data.datasets import Dataset"
   ]
  },
  {
   "cell_type": "code",
   "execution_count": 2,
   "metadata": {},
   "outputs": [],
   "source": [
    "project_root_dir = os.path.dirname(os.getcwd())\n",
    "data_dirname = os.path.join(project_root_dir, 'challenge_data')\n",
    "# read data\n",
    "dataset = Dataset(dir_path=data_dirname)\n",
    "X_train, y_train, X_test = dataset.get_data()"
   ]
  },
  {
   "cell_type": "code",
   "execution_count": null,
   "metadata": {},
   "outputs": [],
   "source": []
  }
 ],
 "metadata": {
  "kernelspec": {
   "display_name": "mva_env",
   "language": "python",
   "name": "python3"
  },
  "language_info": {
   "codemirror_mode": {
    "name": "ipython",
    "version": 3
   },
   "file_extension": ".py",
   "mimetype": "text/x-python",
   "name": "python",
   "nbconvert_exporter": "python",
   "pygments_lexer": "ipython3",
   "version": "3.8.10"
  },
  "orig_nbformat": 4,
  "vscode": {
   "interpreter": {
    "hash": "8b58f4b70b468e15be14bdd20f0c4c6253fc9c8287e49ee320f0cc7848ae416b"
   }
  }
 },
 "nbformat": 4,
 "nbformat_minor": 2
}
