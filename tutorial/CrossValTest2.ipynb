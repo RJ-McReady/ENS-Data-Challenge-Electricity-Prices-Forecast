{
 "cells": [
  {
   "cell_type": "code",
   "execution_count": 25,
   "id": "92185e9c",
   "metadata": {
    "scrolled": true
   },
   "outputs": [
    {
     "name": "stderr",
     "output_type": "stream",
     "text": [
      "/Users/nacimbouia/Documents/Travail/MVA-DataCh/ENS-Data-Challenge-Electricity-Prices-Forecast/.venv/lib/python3.9/site-packages/sklearn/linear_model/_coordinate_descent.py:634: ConvergenceWarning: Objective did not converge. You might want to increase the number of iterations, check the scale of the features or consider increasing regularisation. Duality gap: 5.521e+02, tolerance: 1.185e-01\n",
      "  model = cd_fast.enet_coordinate_descent(\n",
      "/Users/nacimbouia/Documents/Travail/MVA-DataCh/ENS-Data-Challenge-Electricity-Prices-Forecast/.venv/lib/python3.9/site-packages/sklearn/linear_model/_coordinate_descent.py:634: ConvergenceWarning: Objective did not converge. You might want to increase the number of iterations, check the scale of the features or consider increasing regularisation. Duality gap: 5.339e+02, tolerance: 1.185e-01\n",
      "  model = cd_fast.enet_coordinate_descent(\n",
      "/Users/nacimbouia/Documents/Travail/MVA-DataCh/ENS-Data-Challenge-Electricity-Prices-Forecast/.venv/lib/python3.9/site-packages/sklearn/linear_model/_coordinate_descent.py:634: ConvergenceWarning: Objective did not converge. You might want to increase the number of iterations, check the scale of the features or consider increasing regularisation. Duality gap: 4.812e+02, tolerance: 1.185e-01\n",
      "  model = cd_fast.enet_coordinate_descent(\n",
      "/Users/nacimbouia/Documents/Travail/MVA-DataCh/ENS-Data-Challenge-Electricity-Prices-Forecast/.venv/lib/python3.9/site-packages/sklearn/linear_model/_coordinate_descent.py:634: ConvergenceWarning: Objective did not converge. You might want to increase the number of iterations, check the scale of the features or consider increasing regularisation. Duality gap: 3.546e+02, tolerance: 1.185e-01\n",
      "  model = cd_fast.enet_coordinate_descent(\n",
      "/Users/nacimbouia/Documents/Travail/MVA-DataCh/ENS-Data-Challenge-Electricity-Prices-Forecast/.venv/lib/python3.9/site-packages/sklearn/linear_model/_coordinate_descent.py:634: ConvergenceWarning: Objective did not converge. You might want to increase the number of iterations, check the scale of the features or consider increasing regularisation. Duality gap: 1.583e+02, tolerance: 1.185e-01\n",
      "  model = cd_fast.enet_coordinate_descent(\n",
      "/Users/nacimbouia/Documents/Travail/MVA-DataCh/ENS-Data-Challenge-Electricity-Prices-Forecast/.venv/lib/python3.9/site-packages/sklearn/linear_model/_coordinate_descent.py:634: ConvergenceWarning: Objective did not converge. You might want to increase the number of iterations, check the scale of the features or consider increasing regularisation. Duality gap: 2.456e+01, tolerance: 1.185e-01\n",
      "  model = cd_fast.enet_coordinate_descent(\n",
      "/Users/nacimbouia/Documents/Travail/MVA-DataCh/ENS-Data-Challenge-Electricity-Prices-Forecast/.venv/lib/python3.9/site-packages/sklearn/linear_model/_coordinate_descent.py:634: ConvergenceWarning: Objective did not converge. You might want to increase the number of iterations, check the scale of the features or consider increasing regularisation. Duality gap: 5.582e+02, tolerance: 1.185e-01\n",
      "  model = cd_fast.enet_coordinate_descent(\n",
      "/Users/nacimbouia/Documents/Travail/MVA-DataCh/ENS-Data-Challenge-Electricity-Prices-Forecast/.venv/lib/python3.9/site-packages/sklearn/linear_model/_coordinate_descent.py:634: ConvergenceWarning: Objective did not converge. You might want to increase the number of iterations, check the scale of the features or consider increasing regularisation. Duality gap: 5.457e+02, tolerance: 1.185e-01\n",
      "  model = cd_fast.enet_coordinate_descent(\n",
      "/Users/nacimbouia/Documents/Travail/MVA-DataCh/ENS-Data-Challenge-Electricity-Prices-Forecast/.venv/lib/python3.9/site-packages/sklearn/linear_model/_coordinate_descent.py:634: ConvergenceWarning: Objective did not converge. You might want to increase the number of iterations, check the scale of the features or consider increasing regularisation. Duality gap: 5.085e+02, tolerance: 1.185e-01\n",
      "  model = cd_fast.enet_coordinate_descent(\n",
      "/Users/nacimbouia/Documents/Travail/MVA-DataCh/ENS-Data-Challenge-Electricity-Prices-Forecast/.venv/lib/python3.9/site-packages/sklearn/linear_model/_coordinate_descent.py:634: ConvergenceWarning: Objective did not converge. You might want to increase the number of iterations, check the scale of the features or consider increasing regularisation. Duality gap: 4.111e+02, tolerance: 1.185e-01\n",
      "  model = cd_fast.enet_coordinate_descent(\n",
      "/Users/nacimbouia/Documents/Travail/MVA-DataCh/ENS-Data-Challenge-Electricity-Prices-Forecast/.venv/lib/python3.9/site-packages/sklearn/linear_model/_coordinate_descent.py:634: ConvergenceWarning: Objective did not converge. You might want to increase the number of iterations, check the scale of the features or consider increasing regularisation. Duality gap: 2.281e+02, tolerance: 1.185e-01\n",
      "  model = cd_fast.enet_coordinate_descent(\n",
      "/Users/nacimbouia/Documents/Travail/MVA-DataCh/ENS-Data-Challenge-Electricity-Prices-Forecast/.venv/lib/python3.9/site-packages/sklearn/linear_model/_coordinate_descent.py:634: ConvergenceWarning: Objective did not converge. You might want to increase the number of iterations, check the scale of the features or consider increasing regularisation. Duality gap: 5.504e+01, tolerance: 1.185e-01\n",
      "  model = cd_fast.enet_coordinate_descent(\n",
      "/Users/nacimbouia/Documents/Travail/MVA-DataCh/ENS-Data-Challenge-Electricity-Prices-Forecast/.venv/lib/python3.9/site-packages/sklearn/linear_model/_coordinate_descent.py:634: ConvergenceWarning: Objective did not converge. You might want to increase the number of iterations, check the scale of the features or consider increasing regularisation. Duality gap: 1.051e+00, tolerance: 1.185e-01\n",
      "  model = cd_fast.enet_coordinate_descent(\n",
      "/Users/nacimbouia/Documents/Travail/MVA-DataCh/ENS-Data-Challenge-Electricity-Prices-Forecast/.venv/lib/python3.9/site-packages/sklearn/linear_model/_coordinate_descent.py:634: ConvergenceWarning: Objective did not converge. You might want to increase the number of iterations, check the scale of the features or consider increasing regularisation. Duality gap: 5.826e+02, tolerance: 1.250e-01\n",
      "  model = cd_fast.enet_coordinate_descent(\n",
      "/Users/nacimbouia/Documents/Travail/MVA-DataCh/ENS-Data-Challenge-Electricity-Prices-Forecast/.venv/lib/python3.9/site-packages/sklearn/linear_model/_coordinate_descent.py:634: ConvergenceWarning: Objective did not converge. You might want to increase the number of iterations, check the scale of the features or consider increasing regularisation. Duality gap: 5.738e+02, tolerance: 1.250e-01\n",
      "  model = cd_fast.enet_coordinate_descent(\n",
      "/Users/nacimbouia/Documents/Travail/MVA-DataCh/ENS-Data-Challenge-Electricity-Prices-Forecast/.venv/lib/python3.9/site-packages/sklearn/linear_model/_coordinate_descent.py:634: ConvergenceWarning: Objective did not converge. You might want to increase the number of iterations, check the scale of the features or consider increasing regularisation. Duality gap: 5.468e+02, tolerance: 1.250e-01\n",
      "  model = cd_fast.enet_coordinate_descent(\n",
      "/Users/nacimbouia/Documents/Travail/MVA-DataCh/ENS-Data-Challenge-Electricity-Prices-Forecast/.venv/lib/python3.9/site-packages/sklearn/linear_model/_coordinate_descent.py:634: ConvergenceWarning: Objective did not converge. You might want to increase the number of iterations, check the scale of the features or consider increasing regularisation. Duality gap: 4.716e+02, tolerance: 1.250e-01\n",
      "  model = cd_fast.enet_coordinate_descent(\n",
      "/Users/nacimbouia/Documents/Travail/MVA-DataCh/ENS-Data-Challenge-Electricity-Prices-Forecast/.venv/lib/python3.9/site-packages/sklearn/linear_model/_coordinate_descent.py:634: ConvergenceWarning: Objective did not converge. You might want to increase the number of iterations, check the scale of the features or consider increasing regularisation. Duality gap: 3.057e+02, tolerance: 1.250e-01\n",
      "  model = cd_fast.enet_coordinate_descent(\n",
      "/Users/nacimbouia/Documents/Travail/MVA-DataCh/ENS-Data-Challenge-Electricity-Prices-Forecast/.venv/lib/python3.9/site-packages/sklearn/linear_model/_coordinate_descent.py:634: ConvergenceWarning: Objective did not converge. You might want to increase the number of iterations, check the scale of the features or consider increasing regularisation. Duality gap: 9.422e+01, tolerance: 1.250e-01\n",
      "  model = cd_fast.enet_coordinate_descent(\n"
     ]
    },
    {
     "name": "stderr",
     "output_type": "stream",
     "text": [
      "/Users/nacimbouia/Documents/Travail/MVA-DataCh/ENS-Data-Challenge-Electricity-Prices-Forecast/.venv/lib/python3.9/site-packages/sklearn/linear_model/_coordinate_descent.py:634: ConvergenceWarning: Objective did not converge. You might want to increase the number of iterations, check the scale of the features or consider increasing regularisation. Duality gap: 3.922e+00, tolerance: 1.250e-01\n",
      "  model = cd_fast.enet_coordinate_descent(\n",
      "/Users/nacimbouia/Documents/Travail/MVA-DataCh/ENS-Data-Challenge-Electricity-Prices-Forecast/.venv/lib/python3.9/site-packages/sklearn/linear_model/_coordinate_descent.py:634: ConvergenceWarning: Objective did not converge. You might want to increase the number of iterations, check the scale of the features or consider increasing regularisation. Duality gap: 5.861e+02, tolerance: 1.250e-01\n",
      "  model = cd_fast.enet_coordinate_descent(\n",
      "/Users/nacimbouia/Documents/Travail/MVA-DataCh/ENS-Data-Challenge-Electricity-Prices-Forecast/.venv/lib/python3.9/site-packages/sklearn/linear_model/_coordinate_descent.py:634: ConvergenceWarning: Objective did not converge. You might want to increase the number of iterations, check the scale of the features or consider increasing regularisation. Duality gap: 5.784e+02, tolerance: 1.250e-01\n",
      "  model = cd_fast.enet_coordinate_descent(\n",
      "/Users/nacimbouia/Documents/Travail/MVA-DataCh/ENS-Data-Challenge-Electricity-Prices-Forecast/.venv/lib/python3.9/site-packages/sklearn/linear_model/_coordinate_descent.py:634: ConvergenceWarning: Objective did not converge. You might want to increase the number of iterations, check the scale of the features or consider increasing regularisation. Duality gap: 5.547e+02, tolerance: 1.250e-01\n",
      "  model = cd_fast.enet_coordinate_descent(\n",
      "/Users/nacimbouia/Documents/Travail/MVA-DataCh/ENS-Data-Challenge-Electricity-Prices-Forecast/.venv/lib/python3.9/site-packages/sklearn/linear_model/_coordinate_descent.py:634: ConvergenceWarning: Objective did not converge. You might want to increase the number of iterations, check the scale of the features or consider increasing regularisation. Duality gap: 4.877e+02, tolerance: 1.250e-01\n",
      "  model = cd_fast.enet_coordinate_descent(\n",
      "/Users/nacimbouia/Documents/Travail/MVA-DataCh/ENS-Data-Challenge-Electricity-Prices-Forecast/.venv/lib/python3.9/site-packages/sklearn/linear_model/_coordinate_descent.py:634: ConvergenceWarning: Objective did not converge. You might want to increase the number of iterations, check the scale of the features or consider increasing regularisation. Duality gap: 3.341e+02, tolerance: 1.250e-01\n",
      "  model = cd_fast.enet_coordinate_descent(\n",
      "/Users/nacimbouia/Documents/Travail/MVA-DataCh/ENS-Data-Challenge-Electricity-Prices-Forecast/.venv/lib/python3.9/site-packages/sklearn/linear_model/_coordinate_descent.py:634: ConvergenceWarning: Objective did not converge. You might want to increase the number of iterations, check the scale of the features or consider increasing regularisation. Duality gap: 1.221e+02, tolerance: 1.250e-01\n",
      "  model = cd_fast.enet_coordinate_descent(\n",
      "/Users/nacimbouia/Documents/Travail/MVA-DataCh/ENS-Data-Challenge-Electricity-Prices-Forecast/.venv/lib/python3.9/site-packages/sklearn/linear_model/_coordinate_descent.py:634: ConvergenceWarning: Objective did not converge. You might want to increase the number of iterations, check the scale of the features or consider increasing regularisation. Duality gap: 8.225e+00, tolerance: 1.250e-01\n",
      "  model = cd_fast.enet_coordinate_descent(\n",
      "/Users/nacimbouia/Documents/Travail/MVA-DataCh/ENS-Data-Challenge-Electricity-Prices-Forecast/.venv/lib/python3.9/site-packages/sklearn/linear_model/_coordinate_descent.py:634: ConvergenceWarning: Objective did not converge. You might want to increase the number of iterations, check the scale of the features or consider increasing regularisation. Duality gap: 4.888e+02, tolerance: 1.349e-01\n",
      "  model = cd_fast.enet_coordinate_descent(\n",
      "/Users/nacimbouia/Documents/Travail/MVA-DataCh/ENS-Data-Challenge-Electricity-Prices-Forecast/.venv/lib/python3.9/site-packages/sklearn/linear_model/_coordinate_descent.py:634: ConvergenceWarning: Objective did not converge. You might want to increase the number of iterations, check the scale of the features or consider increasing regularisation. Duality gap: 2.997e+02, tolerance: 1.349e-01\n",
      "  model = cd_fast.enet_coordinate_descent(\n",
      "/Users/nacimbouia/Documents/Travail/MVA-DataCh/ENS-Data-Challenge-Electricity-Prices-Forecast/.venv/lib/python3.9/site-packages/sklearn/linear_model/_coordinate_descent.py:634: ConvergenceWarning: Objective did not converge. You might want to increase the number of iterations, check the scale of the features or consider increasing regularisation. Duality gap: 1.229e+02, tolerance: 1.349e-01\n",
      "  model = cd_fast.enet_coordinate_descent(\n",
      "/Users/nacimbouia/Documents/Travail/MVA-DataCh/ENS-Data-Challenge-Electricity-Prices-Forecast/.venv/lib/python3.9/site-packages/sklearn/linear_model/_coordinate_descent.py:634: ConvergenceWarning: Objective did not converge. You might want to increase the number of iterations, check the scale of the features or consider increasing regularisation. Duality gap: 4.071e+01, tolerance: 1.349e-01\n",
      "  model = cd_fast.enet_coordinate_descent(\n",
      "/Users/nacimbouia/Documents/Travail/MVA-DataCh/ENS-Data-Challenge-Electricity-Prices-Forecast/.venv/lib/python3.9/site-packages/sklearn/linear_model/_coordinate_descent.py:634: ConvergenceWarning: Objective did not converge. You might want to increase the number of iterations, check the scale of the features or consider increasing regularisation. Duality gap: 1.733e+01, tolerance: 1.349e-01\n",
      "  model = cd_fast.enet_coordinate_descent(\n",
      "/Users/nacimbouia/Documents/Travail/MVA-DataCh/ENS-Data-Challenge-Electricity-Prices-Forecast/.venv/lib/python3.9/site-packages/sklearn/linear_model/_coordinate_descent.py:634: ConvergenceWarning: Objective did not converge. You might want to increase the number of iterations, check the scale of the features or consider increasing regularisation. Duality gap: 6.180e+02, tolerance: 1.349e-01\n",
      "  model = cd_fast.enet_coordinate_descent(\n",
      "/Users/nacimbouia/Documents/Travail/MVA-DataCh/ENS-Data-Challenge-Electricity-Prices-Forecast/.venv/lib/python3.9/site-packages/sklearn/linear_model/_coordinate_descent.py:634: ConvergenceWarning: Objective did not converge. You might want to increase the number of iterations, check the scale of the features or consider increasing regularisation. Duality gap: 5.818e+02, tolerance: 1.349e-01\n",
      "  model = cd_fast.enet_coordinate_descent(\n",
      "/Users/nacimbouia/Documents/Travail/MVA-DataCh/ENS-Data-Challenge-Electricity-Prices-Forecast/.venv/lib/python3.9/site-packages/sklearn/linear_model/_coordinate_descent.py:634: ConvergenceWarning: Objective did not converge. You might want to increase the number of iterations, check the scale of the features or consider increasing regularisation. Duality gap: 4.841e+02, tolerance: 1.349e-01\n",
      "  model = cd_fast.enet_coordinate_descent(\n",
      "/Users/nacimbouia/Documents/Travail/MVA-DataCh/ENS-Data-Challenge-Electricity-Prices-Forecast/.venv/lib/python3.9/site-packages/sklearn/linear_model/_coordinate_descent.py:634: ConvergenceWarning: Objective did not converge. You might want to increase the number of iterations, check the scale of the features or consider increasing regularisation. Duality gap: 2.867e+02, tolerance: 1.349e-01\n",
      "  model = cd_fast.enet_coordinate_descent(\n",
      "/Users/nacimbouia/Documents/Travail/MVA-DataCh/ENS-Data-Challenge-Electricity-Prices-Forecast/.venv/lib/python3.9/site-packages/sklearn/linear_model/_coordinate_descent.py:634: ConvergenceWarning: Objective did not converge. You might want to increase the number of iterations, check the scale of the features or consider increasing regularisation. Duality gap: 7.522e+01, tolerance: 1.349e-01\n",
      "  model = cd_fast.enet_coordinate_descent(\n",
      "/Users/nacimbouia/Documents/Travail/MVA-DataCh/ENS-Data-Challenge-Electricity-Prices-Forecast/.venv/lib/python3.9/site-packages/sklearn/linear_model/_coordinate_descent.py:634: ConvergenceWarning: Objective did not converge. You might want to increase the number of iterations, check the scale of the features or consider increasing regularisation. Duality gap: 1.111e+00, tolerance: 1.349e-01\n",
      "  model = cd_fast.enet_coordinate_descent(\n"
     ]
    },
    {
     "name": "stderr",
     "output_type": "stream",
     "text": [
      "/Users/nacimbouia/Documents/Travail/MVA-DataCh/ENS-Data-Challenge-Electricity-Prices-Forecast/.venv/lib/python3.9/site-packages/sklearn/linear_model/_coordinate_descent.py:634: ConvergenceWarning: Objective did not converge. You might want to increase the number of iterations, check the scale of the features or consider increasing regularisation. Duality gap: 5.676e+02, tolerance: 1.262e-01\n",
      "  model = cd_fast.enet_coordinate_descent(\n",
      "/Users/nacimbouia/Documents/Travail/MVA-DataCh/ENS-Data-Challenge-Electricity-Prices-Forecast/.venv/lib/python3.9/site-packages/sklearn/linear_model/_coordinate_descent.py:634: ConvergenceWarning: Objective did not converge. You might want to increase the number of iterations, check the scale of the features or consider increasing regularisation. Duality gap: 5.303e+02, tolerance: 1.262e-01\n",
      "  model = cd_fast.enet_coordinate_descent(\n",
      "/Users/nacimbouia/Documents/Travail/MVA-DataCh/ENS-Data-Challenge-Electricity-Prices-Forecast/.venv/lib/python3.9/site-packages/sklearn/linear_model/_coordinate_descent.py:634: ConvergenceWarning: Objective did not converge. You might want to increase the number of iterations, check the scale of the features or consider increasing regularisation. Duality gap: 4.330e+02, tolerance: 1.262e-01\n",
      "  model = cd_fast.enet_coordinate_descent(\n",
      "/Users/nacimbouia/Documents/Travail/MVA-DataCh/ENS-Data-Challenge-Electricity-Prices-Forecast/.venv/lib/python3.9/site-packages/sklearn/linear_model/_coordinate_descent.py:634: ConvergenceWarning: Objective did not converge. You might want to increase the number of iterations, check the scale of the features or consider increasing regularisation. Duality gap: 2.520e+02, tolerance: 1.262e-01\n",
      "  model = cd_fast.enet_coordinate_descent(\n",
      "/Users/nacimbouia/Documents/Travail/MVA-DataCh/ENS-Data-Challenge-Electricity-Prices-Forecast/.venv/lib/python3.9/site-packages/sklearn/linear_model/_coordinate_descent.py:634: ConvergenceWarning: Objective did not converge. You might want to increase the number of iterations, check the scale of the features or consider increasing regularisation. Duality gap: 7.741e+01, tolerance: 1.262e-01\n",
      "  model = cd_fast.enet_coordinate_descent(\n",
      "/Users/nacimbouia/Documents/Travail/MVA-DataCh/ENS-Data-Challenge-Electricity-Prices-Forecast/.venv/lib/python3.9/site-packages/sklearn/linear_model/_coordinate_descent.py:634: ConvergenceWarning: Objective did not converge. You might want to increase the number of iterations, check the scale of the features or consider increasing regularisation. Duality gap: 1.181e+01, tolerance: 1.262e-01\n",
      "  model = cd_fast.enet_coordinate_descent(\n",
      "/Users/nacimbouia/Documents/Travail/MVA-DataCh/ENS-Data-Challenge-Electricity-Prices-Forecast/.venv/lib/python3.9/site-packages/sklearn/linear_model/_coordinate_descent.py:634: ConvergenceWarning: Objective did not converge. You might want to increase the number of iterations, check the scale of the features or consider increasing regularisation. Duality gap: 1.589e+00, tolerance: 1.262e-01\n",
      "  model = cd_fast.enet_coordinate_descent(\n",
      "/Users/nacimbouia/Documents/Travail/MVA-DataCh/ENS-Data-Challenge-Electricity-Prices-Forecast/.venv/lib/python3.9/site-packages/sklearn/linear_model/_coordinate_descent.py:634: ConvergenceWarning: Objective did not converge. You might want to increase the number of iterations, check the scale of the features or consider increasing regularisation. Duality gap: 5.751e+02, tolerance: 1.262e-01\n",
      "  model = cd_fast.enet_coordinate_descent(\n",
      "/Users/nacimbouia/Documents/Travail/MVA-DataCh/ENS-Data-Challenge-Electricity-Prices-Forecast/.venv/lib/python3.9/site-packages/sklearn/linear_model/_coordinate_descent.py:634: ConvergenceWarning: Objective did not converge. You might want to increase the number of iterations, check the scale of the features or consider increasing regularisation. Duality gap: 5.449e+02, tolerance: 1.262e-01\n",
      "  model = cd_fast.enet_coordinate_descent(\n",
      "/Users/nacimbouia/Documents/Travail/MVA-DataCh/ENS-Data-Challenge-Electricity-Prices-Forecast/.venv/lib/python3.9/site-packages/sklearn/linear_model/_coordinate_descent.py:634: ConvergenceWarning: Objective did not converge. You might want to increase the number of iterations, check the scale of the features or consider increasing regularisation. Duality gap: 4.622e+02, tolerance: 1.262e-01\n",
      "  model = cd_fast.enet_coordinate_descent(\n",
      "/Users/nacimbouia/Documents/Travail/MVA-DataCh/ENS-Data-Challenge-Electricity-Prices-Forecast/.venv/lib/python3.9/site-packages/sklearn/linear_model/_coordinate_descent.py:634: ConvergenceWarning: Objective did not converge. You might want to increase the number of iterations, check the scale of the features or consider increasing regularisation. Duality gap: 2.886e+02, tolerance: 1.262e-01\n",
      "  model = cd_fast.enet_coordinate_descent(\n",
      "/Users/nacimbouia/Documents/Travail/MVA-DataCh/ENS-Data-Challenge-Electricity-Prices-Forecast/.venv/lib/python3.9/site-packages/sklearn/linear_model/_coordinate_descent.py:634: ConvergenceWarning: Objective did not converge. You might want to increase the number of iterations, check the scale of the features or consider increasing regularisation. Duality gap: 8.743e+01, tolerance: 1.262e-01\n",
      "  model = cd_fast.enet_coordinate_descent(\n",
      "/Users/nacimbouia/Documents/Travail/MVA-DataCh/ENS-Data-Challenge-Electricity-Prices-Forecast/.venv/lib/python3.9/site-packages/sklearn/linear_model/_coordinate_descent.py:634: ConvergenceWarning: Objective did not converge. You might want to increase the number of iterations, check the scale of the features or consider increasing regularisation. Duality gap: 3.865e+00, tolerance: 1.262e-01\n",
      "  model = cd_fast.enet_coordinate_descent(\n",
      "/Users/nacimbouia/Documents/Travail/MVA-DataCh/ENS-Data-Challenge-Electricity-Prices-Forecast/.venv/lib/python3.9/site-packages/sklearn/linear_model/_coordinate_descent.py:634: ConvergenceWarning: Objective did not converge. You might want to increase the number of iterations, check the scale of the features or consider increasing regularisation. Duality gap: 6.138e+02, tolerance: 1.346e-01\n",
      "  model = cd_fast.enet_coordinate_descent(\n",
      "/Users/nacimbouia/Documents/Travail/MVA-DataCh/ENS-Data-Challenge-Electricity-Prices-Forecast/.venv/lib/python3.9/site-packages/sklearn/linear_model/_coordinate_descent.py:634: ConvergenceWarning: Objective did not converge. You might want to increase the number of iterations, check the scale of the features or consider increasing regularisation. Duality gap: 5.869e+02, tolerance: 1.346e-01\n",
      "  model = cd_fast.enet_coordinate_descent(\n",
      "/Users/nacimbouia/Documents/Travail/MVA-DataCh/ENS-Data-Challenge-Electricity-Prices-Forecast/.venv/lib/python3.9/site-packages/sklearn/linear_model/_coordinate_descent.py:634: ConvergenceWarning: Objective did not converge. You might want to increase the number of iterations, check the scale of the features or consider increasing regularisation. Duality gap: 5.117e+02, tolerance: 1.346e-01\n",
      "  model = cd_fast.enet_coordinate_descent(\n",
      "/Users/nacimbouia/Documents/Travail/MVA-DataCh/ENS-Data-Challenge-Electricity-Prices-Forecast/.venv/lib/python3.9/site-packages/sklearn/linear_model/_coordinate_descent.py:634: ConvergenceWarning: Objective did not converge. You might want to increase the number of iterations, check the scale of the features or consider increasing regularisation. Duality gap: 3.438e+02, tolerance: 1.346e-01\n",
      "  model = cd_fast.enet_coordinate_descent(\n",
      "/Users/nacimbouia/Documents/Travail/MVA-DataCh/ENS-Data-Challenge-Electricity-Prices-Forecast/.venv/lib/python3.9/site-packages/sklearn/linear_model/_coordinate_descent.py:634: ConvergenceWarning: Objective did not converge. You might want to increase the number of iterations, check the scale of the features or consider increasing regularisation. Duality gap: 1.232e+02, tolerance: 1.346e-01\n",
      "  model = cd_fast.enet_coordinate_descent(\n",
      "/Users/nacimbouia/Documents/Travail/MVA-DataCh/ENS-Data-Challenge-Electricity-Prices-Forecast/.venv/lib/python3.9/site-packages/sklearn/linear_model/_coordinate_descent.py:634: ConvergenceWarning: Objective did not converge. You might want to increase the number of iterations, check the scale of the features or consider increasing regularisation. Duality gap: 1.008e+01, tolerance: 1.346e-01\n",
      "  model = cd_fast.enet_coordinate_descent(\n"
     ]
    },
    {
     "name": "stderr",
     "output_type": "stream",
     "text": [
      "/Users/nacimbouia/Documents/Travail/MVA-DataCh/ENS-Data-Challenge-Electricity-Prices-Forecast/.venv/lib/python3.9/site-packages/sklearn/linear_model/_coordinate_descent.py:634: ConvergenceWarning: Objective did not converge. You might want to increase the number of iterations, check the scale of the features or consider increasing regularisation. Duality gap: 6.199e+02, tolerance: 1.346e-01\n",
      "  model = cd_fast.enet_coordinate_descent(\n",
      "/Users/nacimbouia/Documents/Travail/MVA-DataCh/ENS-Data-Challenge-Electricity-Prices-Forecast/.venv/lib/python3.9/site-packages/sklearn/linear_model/_coordinate_descent.py:634: ConvergenceWarning: Objective did not converge. You might want to increase the number of iterations, check the scale of the features or consider increasing regularisation. Duality gap: 6.039e+02, tolerance: 1.346e-01\n",
      "  model = cd_fast.enet_coordinate_descent(\n",
      "/Users/nacimbouia/Documents/Travail/MVA-DataCh/ENS-Data-Challenge-Electricity-Prices-Forecast/.venv/lib/python3.9/site-packages/sklearn/linear_model/_coordinate_descent.py:634: ConvergenceWarning: Objective did not converge. You might want to increase the number of iterations, check the scale of the features or consider increasing regularisation. Duality gap: 5.566e+02, tolerance: 1.346e-01\n",
      "  model = cd_fast.enet_coordinate_descent(\n",
      "/Users/nacimbouia/Documents/Travail/MVA-DataCh/ENS-Data-Challenge-Electricity-Prices-Forecast/.venv/lib/python3.9/site-packages/sklearn/linear_model/_coordinate_descent.py:634: ConvergenceWarning: Objective did not converge. You might want to increase the number of iterations, check the scale of the features or consider increasing regularisation. Duality gap: 4.361e+02, tolerance: 1.346e-01\n",
      "  model = cd_fast.enet_coordinate_descent(\n",
      "/Users/nacimbouia/Documents/Travail/MVA-DataCh/ENS-Data-Challenge-Electricity-Prices-Forecast/.venv/lib/python3.9/site-packages/sklearn/linear_model/_coordinate_descent.py:634: ConvergenceWarning: Objective did not converge. You might want to increase the number of iterations, check the scale of the features or consider increasing regularisation. Duality gap: 2.232e+02, tolerance: 1.346e-01\n",
      "  model = cd_fast.enet_coordinate_descent(\n",
      "/Users/nacimbouia/Documents/Travail/MVA-DataCh/ENS-Data-Challenge-Electricity-Prices-Forecast/.venv/lib/python3.9/site-packages/sklearn/linear_model/_coordinate_descent.py:634: ConvergenceWarning: Objective did not converge. You might want to increase the number of iterations, check the scale of the features or consider increasing regularisation. Duality gap: 4.417e+01, tolerance: 1.346e-01\n",
      "  model = cd_fast.enet_coordinate_descent(\n"
     ]
    }
   ],
   "source": [
    "import pandas as pd, numpy as np, matplotlib.pyplot as plt, os, sys\n",
    "sys.path.append(os.path.dirname(os.path.abspath('')))\n",
    "from data.data_loading import load_data\n",
    "\n",
    "project_root_dir = os.path.dirname(os.getcwd())\n",
    "data_dirname = os.path.join(project_root_dir, 'challenge_data')\n",
    "# read data\n",
    "X_train, y_train, X_test = load_data(data_dirname)\n",
    "\n",
    "X_train.columns\n",
    "\n",
    "from strategy.strategy import *\n",
    "from models.linreg import *\n",
    "from scripts.cross_validation import *\n",
    "from itertools import product\n",
    "\n",
    "PP1 = Pipeline([MissingValuesMean(), DropIds()])\n",
    "PP2 = Pipeline([MissingValuesLast(), DropIds()])\n",
    "\n",
    "pipelines = [PP1, PP2]\n",
    "\n",
    "ridge_pen = [10**(i/2) for i in range(-6, 10)]\n",
    "ridge_models = [RidgeRegressionModel(alpha=alpha, name=f\"RidgeReg_{alpha:0.3g}\") for alpha in ridge_pen]\n",
    "\n",
    "lasso_pen = [10**(i/2) for i in range(-14, -1)]\n",
    "lasso_models = [LassoRegressionModel(alpha=alpha, name=f\"LassoReg_{alpha:0.3g}\") for alpha in lasso_pen]\n",
    "\n",
    "models = [LinearRegressionModel()] + ridge_models + lasso_models\n",
    "\n",
    "strategies = [Strategy(pipeline, model, name=f\"strat{id_s}\") for id_s, (pipeline, model) in enumerate(product(pipelines, models))]\n",
    "\n",
    "CV = KFoldCrossValidation(strategies, k = 5)\n",
    "CV.run(X_train, y_train.TARGET, verbose = False)"
   ]
  },
  {
   "cell_type": "code",
   "execution_count": 27,
   "id": "aec1e607",
   "metadata": {},
   "outputs": [
    {
     "data": {
      "image/png": "[encoded data removed]",
      "text/plain": [
       "<Figure size 640x480 with 1 Axes>"
      ]
     },
     "metadata": {},
     "output_type": "display_data"
    }
   ],
   "source": [
    "CV.scores.mean().plot()\n",
    "plt.grid()"
   ]
  },
  {
   "cell_type": "code",
   "execution_count": 9,
   "id": "8a9abbc4",
   "metadata": {},
   "outputs": [
    {
     "data": {
      "text/plain": [
       "Strategy:\n",
       "---Pipeline(missing_values_mean, drop_ids, centered_reduced)\n",
       "---LassoReg_0.01"
      ]
     },
     "execution_count": 9,
     "metadata": {},
     "output_type": "execute_result"
    }
   ],
   "source": [
    "strategies[27]"
   ]
  },
  {
   "cell_type": "code",
   "execution_count": 10,
   "id": "28477878",
   "metadata": {},
   "outputs": [
    {
     "data": {
      "text/plain": [
       "fold_id\n",
       "fold_0    0.290249\n",
       "fold_1    0.186420\n",
       "fold_2    0.198329\n",
       "fold_3    0.234495\n",
       "fold_4    0.181134\n",
       "Name: strat27, dtype: float64"
      ]
     },
     "execution_count": 10,
     "metadata": {},
     "output_type": "execute_result"
    }
   ],
   "source": [
    "CV.scores[\"strat27\"]"
   ]
  },
  {
   "cell_type": "code",
   "execution_count": 12,
   "id": "b0c38ff1",
   "metadata": {},
   "outputs": [
    {
     "data": {
      "text/plain": [
       "fold_id\n",
       "fold_0    0.270656\n",
       "fold_1    0.160978\n",
       "fold_2    0.205598\n",
       "fold_3    0.222031\n",
       "fold_4    0.151154\n",
       "dtype: float64"
      ]
     },
     "execution_count": 12,
     "metadata": {},
     "output_type": "execute_result"
    }
   ],
   "source": [
    "CV.scores.mean(1)"
   ]
  },
  {
   "cell_type": "code",
   "execution_count": 23,
   "id": "bde3b51d",
   "metadata": {},
   "outputs": [
    {
     "name": "stderr",
     "output_type": "stream",
     "text": [
      "/var/folders/3p/g7990tvs7sjd_z_w8jqby4700000gn/T/ipykernel_35541/1386134871.py:2: SettingWithCopyWarning: \n",
      "A value is trying to be set on a copy of a slice from a DataFrame.\n",
      "Try using .loc[row_indexer,col_indexer] = value instead\n",
      "\n",
      "See the caveats in the documentation: https://pandas.pydata.org/pandas-docs/stable/user_guide/indexing.html#returning-a-view-versus-a-copy\n",
      "  y_test[\"TARGET\"] = strategies[27].process(X_train, y_train.TARGET, X_test)\n"
     ]
    },
    {
     "data": {
      "text/html": [
       "<div>\n",
       "<style scoped>\n",
       "    .dataframe tbody tr th:only-of-type {\n",
       "        vertical-align: middle;\n",
       "    }\n",
       "\n",
       "    .dataframe tbody tr th {\n",
       "        vertical-align: top;\n",
       "    }\n",
       "\n",
       "    .dataframe thead th {\n",
       "        text-align: right;\n",
       "    }\n",
       "</style>\n",
       "<table border=\"1\" class=\"dataframe\">\n",
       "  <thead>\n",
       "    <tr style=\"text-align: right;\">\n",
       "      <th></th>\n",
       "      <th>ID</th>\n",
       "      <th>TARGET</th>\n",
       "    </tr>\n",
       "  </thead>\n",
       "  <tbody>\n",
       "    <tr>\n",
       "      <th>0</th>\n",
       "      <td>1115</td>\n",
       "      <td>0.027307</td>\n",
       "    </tr>\n",
       "    <tr>\n",
       "      <th>1</th>\n",
       "      <td>1202</td>\n",
       "      <td>0.148487</td>\n",
       "    </tr>\n",
       "    <tr>\n",
       "      <th>2</th>\n",
       "      <td>1194</td>\n",
       "      <td>-0.199807</td>\n",
       "    </tr>\n",
       "    <tr>\n",
       "      <th>3</th>\n",
       "      <td>1084</td>\n",
       "      <td>0.109688</td>\n",
       "    </tr>\n",
       "    <tr>\n",
       "      <th>4</th>\n",
       "      <td>1135</td>\n",
       "      <td>0.041867</td>\n",
       "    </tr>\n",
       "  </tbody>\n",
       "</table>\n",
       "</div>"
      ],
      "text/plain": [
       "     ID    TARGET\n",
       "0  1115  0.027307\n",
       "1  1202  0.148487\n",
       "2  1194 -0.199807\n",
       "3  1084  0.109688\n",
       "4  1135  0.041867"
      ]
     },
     "execution_count": 23,
     "metadata": {},
     "output_type": "execute_result"
    }
   ],
   "source": [
    "y_test = X_test[[\"ID\"]]\n",
    "y_test[\"TARGET\"] = strategies[27].process(X_train, y_train.TARGET, X_test)\n",
    "y_test.head()"
   ]
  },
  {
   "cell_type": "code",
   "execution_count": 24,
   "id": "98e98b80",
   "metadata": {},
   "outputs": [],
   "source": [
    "y_test.to_csv(os.path.join(data_dirname, \"FastSub3.csv\"), index=False)"
   ]
  },
  {
   "cell_type": "code",
   "execution_count": null,
   "id": "0dc4867e",
   "metadata": {},
   "outputs": [],
   "source": []
  }
 ],
 "metadata": {
  "kernelspec": {
   "display_name": "Python 3 (ipykernel)",
   "language": "python",
   "name": "python3"
  },
  "language_info": {
   "codemirror_mode": {
    "name": "ipython",
    "version": 3
   },
   "file_extension": ".py",
   "mimetype": "text/x-python",
   "name": "python",
   "nbconvert_exporter": "python",
   "pygments_lexer": "ipython3",
   "version": "3.9.4"
  }
 },
 "nbformat": 4,
 "nbformat_minor": 5
}
